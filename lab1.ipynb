{
 "cells": [
  {
   "cell_type": "code",
   "id": "initial_id",
   "metadata": {
    "collapsed": true,
    "ExecuteTime": {
     "end_time": "2024-11-09T12:32:13.444907Z",
     "start_time": "2024-11-09T12:32:11.896906Z"
    }
   },
   "source": [
    "import pandas as pd\n",
    "import networkx as nx\n",
    "import matplotlib.pyplot as plt\n",
    "\n",
    "df = pd.read_csv('pairwise_52seconds_share.csv')\n",
    "\n",
    "G = nx.Graph()\n",
    "\n",
    "for _, row in df.iterrows():\n",
    "    user_1 = f\"user_{row['userID_1']}\"\n",
    "    user_2 = f\"user_{row['userID_2']}\"\n",
    "    video_node = f\"video_{row['videoID']}\"\n",
    "    \n",
    "    if not G.has_node(user_1):\n",
    "        G.add_node(user_1, type='user', color='blue')\n",
    "    \n",
    "    if not G.has_node(user_2):\n",
    "        G.add_node(user_2, type='user', color='blue')\n",
    "        \n",
    "    if not G.has_node(video_node):\n",
    "        G.add_node(video_node, type='video', color='green')\n",
    "        \n",
    "    G.add_edge(user_1, video_node, timestamp=row['timestamp_1'])\n",
    "    G.add_edge(user_2, video_node, timestamp=row['timestamp_2'])\n",
    "    G.add_edge(user_2, user_1, timestamp=row['timestamp_1'])\n",
    "    \n",
    "G.remove_edges_from(nx.selfloop_edges(G))"
   ],
   "outputs": [],
   "execution_count": 1
  },
  {
   "metadata": {
    "ExecuteTime": {
     "end_time": "2024-11-09T12:32:19.598162Z",
     "start_time": "2024-11-09T12:32:19.375718Z"
    }
   },
   "cell_type": "code",
   "source": "nx.write_gexf(G, \"blue_helm.gexf\")\n",
   "id": "442947410e00cee3",
   "outputs": [],
   "execution_count": 2
  },
  {
   "metadata": {
    "ExecuteTime": {
     "end_time": "2024-11-09T12:32:28.520934Z",
     "start_time": "2024-11-09T12:32:28.422371Z"
    }
   },
   "cell_type": "code",
   "source": [
    "n = G.number_of_nodes()\n",
    "m = G.number_of_edges()\n",
    "\n",
    "k = round((2 * m) / n)\n",
    "\n",
    "H = nx.watts_strogatz_graph(n= n, k = k, p = 0.1)\n",
    "\n",
    "nx.write_gexf(H, \"watts_strogatz_random.gexf\")"
   ],
   "id": "d1294373fa25502c",
   "outputs": [],
   "execution_count": 3
  },
  {
   "metadata": {
    "ExecuteTime": {
     "end_time": "2024-11-09T12:32:29.568658Z",
     "start_time": "2024-11-09T12:32:29.507977Z"
    }
   },
   "cell_type": "code",
   "source": [
    "\n",
    "m_par = int(m/n)\n",
    "\n",
    "K = nx.barabasi_albert_graph(n = n, m = m_par)\n",
    "\n",
    "nx.write_gexf(K, \"barabasi_albert.gexf\")"
   ],
   "id": "18f7f3460ee0351d",
   "outputs": [],
   "execution_count": 4
  },
  {
   "metadata": {
    "ExecuteTime": {
     "end_time": "2024-11-09T12:32:30.783191Z",
     "start_time": "2024-11-09T12:32:30.778512Z"
    }
   },
   "cell_type": "code",
   "source": [
    "def transitivity(net):\n",
    "    return nx.transitivity(net)\n",
    "\n",
    "def rich_club(net):\n",
    "    return nx.rich_club_coefficient(net, normalized=True)\n",
    "\n",
    "def average_degree(G):\n",
    "    return sum(dict(G.degree()).values()) / G.number_of_nodes()\n",
    "\n",
    "def deg_assortativity(G):\n",
    "    return nx.degree_assortativity_coefficient(G)\n",
    "\n",
    "def diameter(G):\n",
    "        largest_cc = max(nx.connected_components(G), key=len)\n",
    "        G_sub = G.subgraph(largest_cc)\n",
    "        return nx.diameter(G_sub)\n",
    "\n",
    "def avg_shortest_path(G):\n",
    "        largest_cc = max(nx.connected_components(G), key=len)\n",
    "        G_sub = G.subgraph(largest_cc)\n",
    "        return nx.average_shortest_path_length(G_sub)"
   ],
   "id": "570ff31a3964beaa",
   "outputs": [],
   "execution_count": 5
  },
  {
   "metadata": {
    "ExecuteTime": {
     "end_time": "2024-11-09T12:32:32.348965Z",
     "start_time": "2024-11-09T12:32:32.343946Z"
    }
   },
   "cell_type": "code",
   "source": "nx.is_connected(G)",
   "id": "3808cc6d41f77ab6",
   "outputs": [
    {
     "data": {
      "text/plain": [
       "False"
      ]
     },
     "execution_count": 6,
     "metadata": {},
     "output_type": "execute_result"
    }
   ],
   "execution_count": 6
  },
  {
   "metadata": {
    "ExecuteTime": {
     "end_time": "2024-11-09T12:32:35.643921Z",
     "start_time": "2024-11-09T12:32:35.640337Z"
    }
   },
   "cell_type": "code",
   "source": [
    "def compare_networks(net, base_networks):\n",
    "    metrics = [transitivity, average_degree, deg_assortativity, diameter, avg_shortest_path]\n",
    "    metric_names = [metric.__name__ for metric in metrics]\n",
    "    \n",
    "    results = {metric_name: [] for metric_name in metric_names}\n",
    "    networks = [('blue_helm', net)] + [(f'baseline{i+1}', base_net) for i, base_net in enumerate(base_networks)]\n",
    "    \n",
    "    for name, network in networks:\n",
    "        for metric in metrics:\n",
    "            results[metric.__name__].append(metric(network))\n",
    "            \n",
    "    return results\n",
    "    "
   ],
   "id": "e61fdc7ad6cacc34",
   "outputs": [],
   "execution_count": 7
  },
  {
   "metadata": {
    "ExecuteTime": {
     "end_time": "2024-11-09T12:36:43.814669Z",
     "start_time": "2024-11-09T12:32:36.602787Z"
    }
   },
   "cell_type": "code",
   "source": "result = compare_networks(G, [H, K])",
   "id": "7b0d4aeaeacbe099",
   "outputs": [],
   "execution_count": 8
  },
  {
   "metadata": {},
   "cell_type": "code",
   "source": "result",
   "id": "25c3263814338583",
   "outputs": [
    {
     "data": {
      "text/plain": [
       "{'transitivity': [0.010092078570901202, 0.3554355065492489, 0],\n",
       " 'average_degree': [3.8392857142857144, 4.0, 1.9995421245421245],\n",
       " 'deg_assortativity': [-0.14743884690490577,\n",
       "  -0.025173702539830305,\n",
       "  -0.05714008686882524],\n",
       " 'diameter': [17, 21, 22],\n",
       " 'avg_shortest_path': [4.771102215238985,\n",
       "  11.179890533479954,\n",
       "  7.947287703899795]}"
      ]
     },
     "execution_count": 9,
     "metadata": {},
     "output_type": "execute_result"
    }
   ],
   "execution_count": 9
  },
  {
   "metadata": {},
   "cell_type": "code",
   "outputs": [],
   "execution_count": null,
   "source": "",
   "id": "a160a2222449dbca"
  }
 ],
 "metadata": {
  "kernelspec": {
   "display_name": "Python 3",
   "language": "python",
   "name": "python3"
  },
  "language_info": {
   "codemirror_mode": {
    "name": "ipython",
    "version": 2
   },
   "file_extension": ".py",
   "mimetype": "text/x-python",
   "name": "python",
   "nbconvert_exporter": "python",
   "pygments_lexer": "ipython2",
   "version": "2.7.6"
  }
 },
 "nbformat": 4,
 "nbformat_minor": 5
}

{
 "cells": [
  {
   "cell_type": "code",
   "id": "initial_id",
   "metadata": {
    "collapsed": true,
    "ExecuteTime": {
     "end_time": "2024-11-03T17:55:07.715272Z",
     "start_time": "2024-11-03T17:55:06.503481Z"
    }
   },
   "source": [
    "import pandas as pd\n",
    "import networkx as nx\n",
    "import matplotlib.pyplot as plt\n",
    "\n",
    "df = pd.read_csv('pairwise_52seconds_share.csv')\n",
    "\n",
    "G = nx.Graph()\n",
    "\n",
    "for _, row in df.iterrows():\n",
    "    user_1 = f\"user_{row['userID_1']}\"\n",
    "    user_2 = f\"user_{row['userID_2']}\"\n",
    "    video_node = f\"video_{row['videoID']}\"\n",
    "    \n",
    "    if not G.has_node(user_1):\n",
    "        G.add_node(user_1, type='user', color='blue')\n",
    "    \n",
    "    if not G.has_node(user_2):\n",
    "        G.add_node(user_2, type='user', color='blue')\n",
    "        \n",
    "    if not G.has_node(video_node):\n",
    "        G.add_node(video_node, type='video', color='green')\n",
    "        \n",
    "    G.add_edge(user_1, video_node, timestamp=row['timestamp_1'])\n",
    "    G.add_edge(user_2, video_node, timestamp=row['timestamp_2'])\n",
    "    G.add_edge(user_2, user_1, timestamp=row['timestamp_1'])\n",
    "    \n",
    "G.remove_edges_from(nx.selfloop_edges(G))"
   ],
   "outputs": [],
   "execution_count": 46
  },
  {
   "metadata": {
    "ExecuteTime": {
     "end_time": "2024-11-03T15:52:27.757177Z",
     "start_time": "2024-11-03T15:52:26.932826Z"
    }
   },
   "cell_type": "code",
   "source": "nx.write_gexf(G, \"blue_helm.gexf\")\n",
   "id": "442947410e00cee3",
   "outputs": [],
   "execution_count": 3
  },
  {
   "metadata": {
    "ExecuteTime": {
     "end_time": "2024-11-03T16:08:10.661871Z",
     "start_time": "2024-11-03T16:08:10.001003Z"
    }
   },
   "cell_type": "code",
   "source": [
    "n = G.number_of_nodes()\n",
    "m = G.number_of_edges()\n",
    "\n",
    "k = round((2 * m) / n)\n",
    "\n",
    "H = nx.watts_strogatz_graph(n= n, k = k, p = 0.1)\n",
    "\n",
    "nx.write_gexf(H, \"watts_strogatz_random.gexf\")"
   ],
   "id": "d1294373fa25502c",
   "outputs": [],
   "execution_count": 6
  },
  {
   "metadata": {
    "ExecuteTime": {
     "end_time": "2024-11-03T15:54:20.676418Z",
     "start_time": "2024-11-03T15:54:20.305564Z"
    }
   },
   "cell_type": "code",
   "source": [
    "\n",
    "m_par = int(m/n)\n",
    "\n",
    "K = nx.barabasi_albert_graph(n = n, m = m_par)\n",
    "\n",
    "nx.write_gexf(K, \"barabasi_albert.gexf\")"
   ],
   "id": "18f7f3460ee0351d",
   "outputs": [],
   "execution_count": 5
  },
  {
   "metadata": {
    "ExecuteTime": {
     "end_time": "2024-11-03T18:11:56.661121Z",
     "start_time": "2024-11-03T18:11:56.652066Z"
    }
   },
   "cell_type": "code",
   "source": [
    "def transitivity(net):\n",
    "    return nx.transitivity(net)\n",
    "\n",
    "def rich_club(net):\n",
    "    return nx.rich_club_coefficient(net, normalized=True)\n",
    "\n",
    "def average_degree(G):\n",
    "    return sum(dict(G.degree()).values()) / G.number_of_nodes()\n",
    "\n",
    "def deg_assortativity(G):\n",
    "    return nx.degree_assortativity_coefficient(G)"
   ],
   "id": "570ff31a3964beaa",
   "outputs": [],
   "execution_count": 50
  },
  {
   "metadata": {
    "ExecuteTime": {
     "end_time": "2024-11-03T18:05:36.654924Z",
     "start_time": "2024-11-03T18:05:36.643337Z"
    }
   },
   "cell_type": "code",
   "source": "nx.is_connected(G)",
   "id": "3808cc6d41f77ab6",
   "outputs": [
    {
     "data": {
      "text/plain": [
       "False"
      ]
     },
     "execution_count": 49,
     "metadata": {},
     "output_type": "execute_result"
    }
   ],
   "execution_count": 49
  },
  {
   "metadata": {
    "ExecuteTime": {
     "end_time": "2024-11-03T18:12:08.936904Z",
     "start_time": "2024-11-03T18:12:08.926564Z"
    }
   },
   "cell_type": "code",
   "source": [
    "def compare_networks(net, base_networks):\n",
    "    metrics = [transitivity, average_degree, deg_assortativity]\n",
    "    metric_names = [metric.__name__ for metric in metrics]\n",
    "    \n",
    "    results = {metric_name: [] for metric_name in metric_names}\n",
    "    networks = [('blue_helm', net)] + [(f'baseline{i+1}', base_net) for i, base_net in enumerate(base_networks)]\n",
    "    \n",
    "    for name, network in networks:\n",
    "        for metric in metrics:\n",
    "            results[metric.__name__].append(metric(network))\n",
    "            \n",
    "    return results\n",
    "    "
   ],
   "id": "e61fdc7ad6cacc34",
   "outputs": [],
   "execution_count": 51
  },
  {
   "metadata": {
    "ExecuteTime": {
     "end_time": "2024-11-03T18:12:11.380229Z",
     "start_time": "2024-11-03T18:12:09.975410Z"
    }
   },
   "cell_type": "code",
   "source": "result = compare_networks(G, [H, K])",
   "id": "7b0d4aeaeacbe099",
   "outputs": [],
   "execution_count": 52
  },
  {
   "metadata": {
    "ExecuteTime": {
     "end_time": "2024-11-03T18:12:12.614497Z",
     "start_time": "2024-11-03T18:12:12.602734Z"
    }
   },
   "cell_type": "code",
   "source": "result",
   "id": "25c3263814338583",
   "outputs": [
    {
     "data": {
      "text/plain": [
       "{'transitivity': [0.010092078570901202, 0.3533781785925488, 0],\n",
       " 'average_degree': [3.8392857142857144, 4.0, 1.9995421245421245],\n",
       " 'deg_assortativity': [-0.14743884690490577,\n",
       "  -0.020316945640402123,\n",
       "  -0.0699597735998525]}"
      ]
     },
     "execution_count": 53,
     "metadata": {},
     "output_type": "execute_result"
    }
   ],
   "execution_count": 53
  },
  {
   "metadata": {},
   "cell_type": "code",
   "outputs": [],
   "execution_count": null,
   "source": "",
   "id": "a160a2222449dbca"
  }
 ],
 "metadata": {
  "kernelspec": {
   "display_name": "Python 3",
   "language": "python",
   "name": "python3"
  },
  "language_info": {
   "codemirror_mode": {
    "name": "ipython",
    "version": 2
   },
   "file_extension": ".py",
   "mimetype": "text/x-python",
   "name": "python",
   "nbconvert_exporter": "python",
   "pygments_lexer": "ipython2",
   "version": "2.7.6"
  }
 },
 "nbformat": 4,
 "nbformat_minor": 5
}

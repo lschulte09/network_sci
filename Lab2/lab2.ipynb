{
 "cells": [
  {
   "cell_type": "code",
   "id": "initial_id",
   "metadata": {
    "collapsed": true,
    "ExecuteTime": {
     "end_time": "2024-11-20T13:00:44.832416Z",
     "start_time": "2024-11-20T13:00:42.678237Z"
    }
   },
   "source": [
    "import pandas as pd\n",
    "import numpy as np\n",
    "import networkx as nx"
   ],
   "outputs": [],
   "execution_count": 1
  },
  {
   "metadata": {
    "ExecuteTime": {
     "end_time": "2024-11-20T13:01:39.204020Z",
     "start_time": "2024-11-20T13:01:39.119828Z"
    }
   },
   "cell_type": "code",
   "source": [
    "twt = pd.read_csv('twitter_cross_platform.csv')\n",
    "fb = pd.read_csv('facebook_cross_platform.csv')\n",
    "yt = pd.read_csv('youtube_cross_platform.csv')"
   ],
   "id": "944fa7405c91ce7d",
   "outputs": [],
   "execution_count": 2
  },
  {
   "metadata": {
    "ExecuteTime": {
     "end_time": "2024-11-20T13:21:55.924704Z",
     "start_time": "2024-11-20T13:21:55.909330Z"
    }
   },
   "cell_type": "code",
   "source": "twt.head()",
   "id": "19636473ee9c9d07",
   "outputs": [
    {
     "data": {
      "text/plain": [
       "                   nodeID              nodeUserID             nodeTime  \\\n",
       "0  NRFEnex8MF21dytDg9vfAg  ff0vicGZco1mZzYxUCWiGg  2018-04-01 02:13:00   \n",
       "1  Qeyxwl00d0vgLfKh1YqUEw  MCUuXxcepDc2FFRh9i-AtQ  2018-04-01 03:34:41   \n",
       "2  1QIQqg23ItMfiKbFFrPkAw  5hBVs8jS6_vCAFsHOjvKcA  2018-04-01 10:23:20   \n",
       "3  iYMBH3KdJvOiUHYxeKfx_w  qhQLCsDQNEtptuJJzfEVZA  2018-04-01 11:13:02   \n",
       "4  G86DyDFas0zLKkBFW0GWwg  lSmQYvUcuGn6oFyjGJduDw  2018-04-01 13:43:07   \n",
       "\n",
       "  actionType      videoID platform  \n",
       "0      tweet  6h0VDhENotI  twitter  \n",
       "1      tweet  NQL3rX6xWRg  twitter  \n",
       "2      tweet  VLMOHhKkrX8  twitter  \n",
       "3      tweet  VLMOHhKkrX8  twitter  \n",
       "4      tweet  4oQTWn1JfeA  twitter  "
      ],
      "text/html": [
       "<div>\n",
       "<style scoped>\n",
       "    .dataframe tbody tr th:only-of-type {\n",
       "        vertical-align: middle;\n",
       "    }\n",
       "\n",
       "    .dataframe tbody tr th {\n",
       "        vertical-align: top;\n",
       "    }\n",
       "\n",
       "    .dataframe thead th {\n",
       "        text-align: right;\n",
       "    }\n",
       "</style>\n",
       "<table border=\"1\" class=\"dataframe\">\n",
       "  <thead>\n",
       "    <tr style=\"text-align: right;\">\n",
       "      <th></th>\n",
       "      <th>nodeID</th>\n",
       "      <th>nodeUserID</th>\n",
       "      <th>nodeTime</th>\n",
       "      <th>actionType</th>\n",
       "      <th>videoID</th>\n",
       "      <th>platform</th>\n",
       "    </tr>\n",
       "  </thead>\n",
       "  <tbody>\n",
       "    <tr>\n",
       "      <th>0</th>\n",
       "      <td>NRFEnex8MF21dytDg9vfAg</td>\n",
       "      <td>ff0vicGZco1mZzYxUCWiGg</td>\n",
       "      <td>2018-04-01 02:13:00</td>\n",
       "      <td>tweet</td>\n",
       "      <td>6h0VDhENotI</td>\n",
       "      <td>twitter</td>\n",
       "    </tr>\n",
       "    <tr>\n",
       "      <th>1</th>\n",
       "      <td>Qeyxwl00d0vgLfKh1YqUEw</td>\n",
       "      <td>MCUuXxcepDc2FFRh9i-AtQ</td>\n",
       "      <td>2018-04-01 03:34:41</td>\n",
       "      <td>tweet</td>\n",
       "      <td>NQL3rX6xWRg</td>\n",
       "      <td>twitter</td>\n",
       "    </tr>\n",
       "    <tr>\n",
       "      <th>2</th>\n",
       "      <td>1QIQqg23ItMfiKbFFrPkAw</td>\n",
       "      <td>5hBVs8jS6_vCAFsHOjvKcA</td>\n",
       "      <td>2018-04-01 10:23:20</td>\n",
       "      <td>tweet</td>\n",
       "      <td>VLMOHhKkrX8</td>\n",
       "      <td>twitter</td>\n",
       "    </tr>\n",
       "    <tr>\n",
       "      <th>3</th>\n",
       "      <td>iYMBH3KdJvOiUHYxeKfx_w</td>\n",
       "      <td>qhQLCsDQNEtptuJJzfEVZA</td>\n",
       "      <td>2018-04-01 11:13:02</td>\n",
       "      <td>tweet</td>\n",
       "      <td>VLMOHhKkrX8</td>\n",
       "      <td>twitter</td>\n",
       "    </tr>\n",
       "    <tr>\n",
       "      <th>4</th>\n",
       "      <td>G86DyDFas0zLKkBFW0GWwg</td>\n",
       "      <td>lSmQYvUcuGn6oFyjGJduDw</td>\n",
       "      <td>2018-04-01 13:43:07</td>\n",
       "      <td>tweet</td>\n",
       "      <td>4oQTWn1JfeA</td>\n",
       "      <td>twitter</td>\n",
       "    </tr>\n",
       "  </tbody>\n",
       "</table>\n",
       "</div>"
      ]
     },
     "execution_count": 10,
     "metadata": {},
     "output_type": "execute_result"
    }
   ],
   "execution_count": 10
  },
  {
   "metadata": {
    "ExecuteTime": {
     "end_time": "2024-11-20T13:23:45.918245Z",
     "start_time": "2024-11-20T13:23:45.858350Z"
    }
   },
   "cell_type": "code",
   "source": "twt.describe()",
   "id": "7ea23b352d57a169",
   "outputs": [
    {
     "data": {
      "text/plain": [
       "                        nodeID              nodeUserID             nodeTime  \\\n",
       "count                    14942                   14942                14942   \n",
       "unique                   14776                    4947                14746   \n",
       "top     -n1oLeRxr7PO_Lf5YE27sg  a0fYqjn3qCvgH6MYNqZRew  2018-04-13 20:12:46   \n",
       "freq                         4                    2470                    4   \n",
       "\n",
       "       actionType      videoID platform  \n",
       "count       14942        14942    14942  \n",
       "unique          3          667        1  \n",
       "top         tweet  CCmN6X_7kn0  twitter  \n",
       "freq         8947         2324    14942  "
      ],
      "text/html": [
       "<div>\n",
       "<style scoped>\n",
       "    .dataframe tbody tr th:only-of-type {\n",
       "        vertical-align: middle;\n",
       "    }\n",
       "\n",
       "    .dataframe tbody tr th {\n",
       "        vertical-align: top;\n",
       "    }\n",
       "\n",
       "    .dataframe thead th {\n",
       "        text-align: right;\n",
       "    }\n",
       "</style>\n",
       "<table border=\"1\" class=\"dataframe\">\n",
       "  <thead>\n",
       "    <tr style=\"text-align: right;\">\n",
       "      <th></th>\n",
       "      <th>nodeID</th>\n",
       "      <th>nodeUserID</th>\n",
       "      <th>nodeTime</th>\n",
       "      <th>actionType</th>\n",
       "      <th>videoID</th>\n",
       "      <th>platform</th>\n",
       "    </tr>\n",
       "  </thead>\n",
       "  <tbody>\n",
       "    <tr>\n",
       "      <th>count</th>\n",
       "      <td>14942</td>\n",
       "      <td>14942</td>\n",
       "      <td>14942</td>\n",
       "      <td>14942</td>\n",
       "      <td>14942</td>\n",
       "      <td>14942</td>\n",
       "    </tr>\n",
       "    <tr>\n",
       "      <th>unique</th>\n",
       "      <td>14776</td>\n",
       "      <td>4947</td>\n",
       "      <td>14746</td>\n",
       "      <td>3</td>\n",
       "      <td>667</td>\n",
       "      <td>1</td>\n",
       "    </tr>\n",
       "    <tr>\n",
       "      <th>top</th>\n",
       "      <td>-n1oLeRxr7PO_Lf5YE27sg</td>\n",
       "      <td>a0fYqjn3qCvgH6MYNqZRew</td>\n",
       "      <td>2018-04-13 20:12:46</td>\n",
       "      <td>tweet</td>\n",
       "      <td>CCmN6X_7kn0</td>\n",
       "      <td>twitter</td>\n",
       "    </tr>\n",
       "    <tr>\n",
       "      <th>freq</th>\n",
       "      <td>4</td>\n",
       "      <td>2470</td>\n",
       "      <td>4</td>\n",
       "      <td>8947</td>\n",
       "      <td>2324</td>\n",
       "      <td>14942</td>\n",
       "    </tr>\n",
       "  </tbody>\n",
       "</table>\n",
       "</div>"
      ]
     },
     "execution_count": 11,
     "metadata": {},
     "output_type": "execute_result"
    }
   ],
   "execution_count": 11
  },
  {
   "metadata": {
    "ExecuteTime": {
     "end_time": "2024-11-20T13:24:13.852430Z",
     "start_time": "2024-11-20T13:24:13.839939Z"
    }
   },
   "cell_type": "code",
   "source": "twt['actionType'].value_counts()",
   "id": "178ee704c9c4e890",
   "outputs": [
    {
     "data": {
      "text/plain": [
       "actionType\n",
       "tweet    8947\n",
       "reply    5654\n",
       "quote     341\n",
       "Name: count, dtype: int64"
      ]
     },
     "execution_count": 12,
     "metadata": {},
     "output_type": "execute_result"
    }
   ],
   "execution_count": 12
  },
  {
   "metadata": {},
   "cell_type": "code",
   "outputs": [],
   "execution_count": null,
   "source": "",
   "id": "d3032d8be95396a8"
  }
 ],
 "metadata": {
  "kernelspec": {
   "display_name": "Python 3",
   "language": "python",
   "name": "python3"
  },
  "language_info": {
   "codemirror_mode": {
    "name": "ipython",
    "version": 2
   },
   "file_extension": ".py",
   "mimetype": "text/x-python",
   "name": "python",
   "nbconvert_exporter": "python",
   "pygments_lexer": "ipython2",
   "version": "2.7.6"
  }
 },
 "nbformat": 4,
 "nbformat_minor": 5
}

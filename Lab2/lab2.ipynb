{
 "cells": [
  {
   "cell_type": "code",
   "id": "initial_id",
   "metadata": {
    "collapsed": true,
    "ExecuteTime": {
     "end_time": "2024-11-20T13:00:44.832416Z",
     "start_time": "2024-11-20T13:00:42.678237Z"
    }
   },
   "source": [
    "import networkx\n",
    "import pandas as pd\n",
    "import numpy as np\n",
    "import networkx as nx"
   ],
   "outputs": [],
   "execution_count": 1
  },
  {
   "metadata": {
    "ExecuteTime": {
     "end_time": "2024-11-20T13:01:39.204020Z",
     "start_time": "2024-11-20T13:01:39.119828Z"
    }
   },
   "cell_type": "code",
   "source": [
    "twt = pd.read_csv('twitter_cross_platform.csv')\n",
    "fb = pd.read_csv('facebook_cross_platform.csv')\n",
    "yt = pd.read_csv('youtube_cross_platform.csv')"
   ],
   "id": "944fa7405c91ce7d",
   "outputs": [],
   "execution_count": 2
  },
  {
   "metadata": {
    "ExecuteTime": {
     "end_time": "2024-11-21T09:24:42.535090Z",
     "start_time": "2024-11-21T09:24:42.519510Z"
    }
   },
   "cell_type": "code",
   "source": "fb.head()",
   "id": "19636473ee9c9d07",
   "outputs": [
    {
     "data": {
      "text/plain": [
       "                      nodeID  nodeUserID             nodeTime actionType  \\\n",
       "0    548542|1619699981462385      548542  2018-04-01 10:22:08       post   \n",
       "1   5465518|1679734395397774     5465518  2018-04-05 00:04:00       post   \n",
       "2   6119363|1782014748487422     6119363  2018-04-05 07:12:02       post   \n",
       "3   8621215|1596340410441820     8621215  2018-04-05 18:22:26       post   \n",
       "4  12041680|2070852329860194    12041680  2018-04-08 15:08:50       post   \n",
       "\n",
       "       videoID  platform  \n",
       "0  VLMOHhKkrX8  facebook  \n",
       "1  OBkn78q_t_Q  facebook  \n",
       "2  3wj4ncIEDxw  facebook  \n",
       "3  3wj4ncIEDxw  facebook  \n",
       "4  mvD7qhDwljs  facebook  "
      ],
      "text/html": [
       "<div>\n",
       "<style scoped>\n",
       "    .dataframe tbody tr th:only-of-type {\n",
       "        vertical-align: middle;\n",
       "    }\n",
       "\n",
       "    .dataframe tbody tr th {\n",
       "        vertical-align: top;\n",
       "    }\n",
       "\n",
       "    .dataframe thead th {\n",
       "        text-align: right;\n",
       "    }\n",
       "</style>\n",
       "<table border=\"1\" class=\"dataframe\">\n",
       "  <thead>\n",
       "    <tr style=\"text-align: right;\">\n",
       "      <th></th>\n",
       "      <th>nodeID</th>\n",
       "      <th>nodeUserID</th>\n",
       "      <th>nodeTime</th>\n",
       "      <th>actionType</th>\n",
       "      <th>videoID</th>\n",
       "      <th>platform</th>\n",
       "    </tr>\n",
       "  </thead>\n",
       "  <tbody>\n",
       "    <tr>\n",
       "      <th>0</th>\n",
       "      <td>548542|1619699981462385</td>\n",
       "      <td>548542</td>\n",
       "      <td>2018-04-01 10:22:08</td>\n",
       "      <td>post</td>\n",
       "      <td>VLMOHhKkrX8</td>\n",
       "      <td>facebook</td>\n",
       "    </tr>\n",
       "    <tr>\n",
       "      <th>1</th>\n",
       "      <td>5465518|1679734395397774</td>\n",
       "      <td>5465518</td>\n",
       "      <td>2018-04-05 00:04:00</td>\n",
       "      <td>post</td>\n",
       "      <td>OBkn78q_t_Q</td>\n",
       "      <td>facebook</td>\n",
       "    </tr>\n",
       "    <tr>\n",
       "      <th>2</th>\n",
       "      <td>6119363|1782014748487422</td>\n",
       "      <td>6119363</td>\n",
       "      <td>2018-04-05 07:12:02</td>\n",
       "      <td>post</td>\n",
       "      <td>3wj4ncIEDxw</td>\n",
       "      <td>facebook</td>\n",
       "    </tr>\n",
       "    <tr>\n",
       "      <th>3</th>\n",
       "      <td>8621215|1596340410441820</td>\n",
       "      <td>8621215</td>\n",
       "      <td>2018-04-05 18:22:26</td>\n",
       "      <td>post</td>\n",
       "      <td>3wj4ncIEDxw</td>\n",
       "      <td>facebook</td>\n",
       "    </tr>\n",
       "    <tr>\n",
       "      <th>4</th>\n",
       "      <td>12041680|2070852329860194</td>\n",
       "      <td>12041680</td>\n",
       "      <td>2018-04-08 15:08:50</td>\n",
       "      <td>post</td>\n",
       "      <td>mvD7qhDwljs</td>\n",
       "      <td>facebook</td>\n",
       "    </tr>\n",
       "  </tbody>\n",
       "</table>\n",
       "</div>"
      ]
     },
     "execution_count": 15,
     "metadata": {},
     "output_type": "execute_result"
    }
   ],
   "execution_count": 15
  },
  {
   "metadata": {
    "ExecuteTime": {
     "end_time": "2024-11-20T13:23:45.918245Z",
     "start_time": "2024-11-20T13:23:45.858350Z"
    }
   },
   "cell_type": "code",
   "source": "twt.describe()",
   "id": "7ea23b352d57a169",
   "outputs": [
    {
     "data": {
      "text/plain": [
       "                        nodeID              nodeUserID             nodeTime  \\\n",
       "count                    14942                   14942                14942   \n",
       "unique                   14776                    4947                14746   \n",
       "top     -n1oLeRxr7PO_Lf5YE27sg  a0fYqjn3qCvgH6MYNqZRew  2018-04-13 20:12:46   \n",
       "freq                         4                    2470                    4   \n",
       "\n",
       "       actionType      videoID platform  \n",
       "count       14942        14942    14942  \n",
       "unique          3          667        1  \n",
       "top         tweet  CCmN6X_7kn0  twitter  \n",
       "freq         8947         2324    14942  "
      ],
      "text/html": [
       "<div>\n",
       "<style scoped>\n",
       "    .dataframe tbody tr th:only-of-type {\n",
       "        vertical-align: middle;\n",
       "    }\n",
       "\n",
       "    .dataframe tbody tr th {\n",
       "        vertical-align: top;\n",
       "    }\n",
       "\n",
       "    .dataframe thead th {\n",
       "        text-align: right;\n",
       "    }\n",
       "</style>\n",
       "<table border=\"1\" class=\"dataframe\">\n",
       "  <thead>\n",
       "    <tr style=\"text-align: right;\">\n",
       "      <th></th>\n",
       "      <th>nodeID</th>\n",
       "      <th>nodeUserID</th>\n",
       "      <th>nodeTime</th>\n",
       "      <th>actionType</th>\n",
       "      <th>videoID</th>\n",
       "      <th>platform</th>\n",
       "    </tr>\n",
       "  </thead>\n",
       "  <tbody>\n",
       "    <tr>\n",
       "      <th>count</th>\n",
       "      <td>14942</td>\n",
       "      <td>14942</td>\n",
       "      <td>14942</td>\n",
       "      <td>14942</td>\n",
       "      <td>14942</td>\n",
       "      <td>14942</td>\n",
       "    </tr>\n",
       "    <tr>\n",
       "      <th>unique</th>\n",
       "      <td>14776</td>\n",
       "      <td>4947</td>\n",
       "      <td>14746</td>\n",
       "      <td>3</td>\n",
       "      <td>667</td>\n",
       "      <td>1</td>\n",
       "    </tr>\n",
       "    <tr>\n",
       "      <th>top</th>\n",
       "      <td>-n1oLeRxr7PO_Lf5YE27sg</td>\n",
       "      <td>a0fYqjn3qCvgH6MYNqZRew</td>\n",
       "      <td>2018-04-13 20:12:46</td>\n",
       "      <td>tweet</td>\n",
       "      <td>CCmN6X_7kn0</td>\n",
       "      <td>twitter</td>\n",
       "    </tr>\n",
       "    <tr>\n",
       "      <th>freq</th>\n",
       "      <td>4</td>\n",
       "      <td>2470</td>\n",
       "      <td>4</td>\n",
       "      <td>8947</td>\n",
       "      <td>2324</td>\n",
       "      <td>14942</td>\n",
       "    </tr>\n",
       "  </tbody>\n",
       "</table>\n",
       "</div>"
      ]
     },
     "execution_count": 11,
     "metadata": {},
     "output_type": "execute_result"
    }
   ],
   "execution_count": 11
  },
  {
   "metadata": {
    "ExecuteTime": {
     "end_time": "2024-11-20T13:24:13.852430Z",
     "start_time": "2024-11-20T13:24:13.839939Z"
    }
   },
   "cell_type": "code",
   "source": "twt['actionType'].value_counts()",
   "id": "178ee704c9c4e890",
   "outputs": [
    {
     "data": {
      "text/plain": [
       "actionType\n",
       "tweet    8947\n",
       "reply    5654\n",
       "quote     341\n",
       "Name: count, dtype: int64"
      ]
     },
     "execution_count": 12,
     "metadata": {},
     "output_type": "execute_result"
    }
   ],
   "execution_count": 12
  },
  {
   "metadata": {
    "ExecuteTime": {
     "end_time": "2024-11-21T09:26:38.681599Z",
     "start_time": "2024-11-21T09:26:35.105601Z"
    }
   },
   "cell_type": "code",
   "source": [
    "G = nx.Graph()\n",
    "\n",
    "for index, row in yt.iterrows():\n",
    "    if not G.has_node(row['videoID']):\n",
    "        G.add_node(row['videoID'], color = 'red')\n",
    "        \n",
    "for index, row in twt.iterrows():\n",
    "    if not G.has_node(row['nodeUserID']):\n",
    "        G.add_node(row['nodeUserID'], color = 'green')\n",
    "    if not G.has_node(row['nodeID']):\n",
    "        G.add_node(row['nodeID'], color = 'blue')\n",
    "        G.add_edge(row['nodeUserID'], row['nodeID'])\n",
    "        G.add_edge(row['videoID'], row['nodeID'])\n",
    "        \n",
    "for index, row in fb.iterrows():\n",
    "    if not G.has_node(row['nodeUserID']):\n",
    "        G.add_node(row['nodeUserID'], color = 'yellow')\n",
    "    if not G.has_node(row['nodeID']):\n",
    "        G.add_node(row['nodeID'], color = 'orange')\n",
    "        G.add_edge(row['nodeUserID'], row['nodeID'])\n",
    "        G.add_edge(row['videoID'], row['nodeID'])\n",
    "        \n",
    "nx.write_gexf(G, \"blue_helm_test.gexf\")\n"
   ],
   "id": "d3032d8be95396a8",
   "outputs": [],
   "execution_count": 17
  },
  {
   "metadata": {},
   "cell_type": "code",
   "outputs": [],
   "execution_count": null,
   "source": "",
   "id": "cba94930785b5f78"
  }
 ],
 "metadata": {
  "kernelspec": {
   "display_name": "Python 3",
   "language": "python",
   "name": "python3"
  },
  "language_info": {
   "codemirror_mode": {
    "name": "ipython",
    "version": 2
   },
   "file_extension": ".py",
   "mimetype": "text/x-python",
   "name": "python",
   "nbconvert_exporter": "python",
   "pygments_lexer": "ipython2",
   "version": "2.7.6"
  }
 },
 "nbformat": 4,
 "nbformat_minor": 5
}
